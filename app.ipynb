{
 "cells": [
  {
   "cell_type": "code",
   "execution_count": null,
   "id": "2358788e",
   "metadata": {},
   "outputs": [],
   "source": [
    "import os, numpy as np, pandas as pd, cartopy.crs as ccrs, bokeh\n",
    "import holoviews as hv, geoviews as gv, datashader as ds, panel as pn\n",
    "from holoviews.operation.datashader import rasterize, datashade\n",
    "from colorcet import bmy, bgyw, isolum\n",
    "import colorcet\n",
    "import cartopy\n",
    "import param\n",
    "from holoviews.util import Dynamic\n",
    "from bokeh.models import HoverTool, CustomJSHover\n",
    "hv.extension('bokeh', width=100)\n",
    "pn.extension()"
   ]
  },
  {
   "cell_type": "code",
   "execution_count": null,
   "id": "7555a4cd",
   "metadata": {},
   "outputs": [],
   "source": [
    "app = pn.Row(pn.Pane(f'panel : {pn.__version__}<br>'\n",
    "        f'holoviews : {hv.__version__}<br>'\n",
    "        f'geoviews : {gv.__version__}<br>'\n",
    "        f'bokeh : {bokeh.__version__}<br>'\n",
    "        f'colorcet : {colorcet.__version__}<br>'\n",
    "        f'cartopy : {cartopy.__version__}<br>'\n",
    "        f'param : {param.__version__}<br>'))"
   ]
  },
  {
   "cell_type": "code",
   "execution_count": null,
   "id": "8584a53b",
   "metadata": {},
   "outputs": [],
   "source": [
    "app.servable()"
   ]
  }
 ],
 "metadata": {
  "kernelspec": {
   "display_name": "Python 3 (ipykernel)",
   "language": "python",
   "name": "python3"
  },
  "language_info": {
   "codemirror_mode": {
    "name": "ipython",
    "version": 3
   },
   "file_extension": ".py",
   "mimetype": "text/x-python",
   "name": "python",
   "nbconvert_exporter": "python",
   "pygments_lexer": "ipython3",
   "version": "3.8.12"
  },
  "toc": {
   "base_numbering": 1,
   "nav_menu": {},
   "number_sections": true,
   "sideBar": true,
   "skip_h1_title": false,
   "title_cell": "Table of Contents",
   "title_sidebar": "Contents",
   "toc_cell": false,
   "toc_position": {},
   "toc_section_display": true,
   "toc_window_display": false
  }
 },
 "nbformat": 4,
 "nbformat_minor": 5
}
